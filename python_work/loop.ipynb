{
 "cells": [
  {
   "cell_type": "markdown",
   "metadata": {},
   "source": [
    "# loop"
   ]
  },
  {
   "cell_type": "code",
   "execution_count": 5,
   "metadata": {},
   "outputs": [
    {
     "name": "stdout",
     "output_type": "stream",
     "text": [
      "80\n",
      "70\n"
     ]
    }
   ],
   "source": [
    "for a in range(10): # when sum of two num is equal to 100 it will break\n",
    "    x = int(input())\n",
    "    y = int(input())\n",
    "    sum = x + y\n",
    "    if sum > 100:\n",
    "        break\n",
    "    print(sum)\n",
    "    "
   ]
  },
  {
   "cell_type": "markdown",
   "metadata": {},
   "source": [
    "print numbers which are divisible by 7 but are not a multiple of 5,\n",
    "between 2000 and 3200"
   ]
  },
  {
   "cell_type": "code",
   "execution_count": 2,
   "metadata": {},
   "outputs": [
    {
     "name": "stdout",
     "output_type": "stream",
     "text": [
      "2002,2009,2016,2023,2037,2044,2051,2058,2072,2079,2086,2093,2107,2114,2121,2128,2142,2149,2156,2163,2177,2184,2191,2198,2212,2219,2226,2233,2247,2254,2261,2268,2282,2289,2296,2303,2317,2324,2331,2338,2352,2359,2366,2373,2387,2394,2401,2408,2422,2429,2436,2443,2457,2464,2471,2478,2492,2499,2506,2513,2527,2534,2541,2548,2562,2569,2576,2583,2597,2604,2611,2618,2632,2639,2646,2653,2667,2674,2681,2688,2702,2709,2716,2723,2737,2744,2751,2758,2772,2779,2786,2793,2807,2814,2821,2828,2842,2849,2856,2863,2877,2884,2891,2898,2912,2919,2926,2933,2947,2954,2961,2968,2982,2989,2996,3003,3017,3024,3031,3038,3052,3059,3066,3073,3087,3094,3101,3108,3122,3129,3136,3143,3157,3164,3171,3178,3192,3199\n"
     ]
    }
   ],
   "source": [
    "num=[]\n",
    "for i in range(2000, 3200):\n",
    "    if(i%7==0 ) and (i % 5!=0):\n",
    "        num.append(str(i))\n",
    "        \n",
    "print (','.join(num))"
   ]
  },
  {
   "cell_type": "code",
   "execution_count": 32,
   "metadata": {},
   "outputs": [
    {
     "name": "stdout",
     "output_type": "stream",
     "text": [
      "Enter any number: 9\n",
      "the integral of 9 is 81\n"
     ]
    }
   ],
   "source": [
    "num = int(input(\"Enter any number: \"))\n",
    "for i in range(1):\n",
    "    res= num * num \n",
    "    print(\"the integral of \"+ str (num) +\" is \"+ str (res))\n",
    "    "
   ]
  },
  {
   "cell_type": "code",
   "execution_count": 49,
   "metadata": {},
   "outputs": [
    {
     "name": "stdout",
     "output_type": "stream",
     "text": [
      "5, 6, 7, 8\n",
      "['5', ' 6', ' 7', ' 8']\n"
     ]
    }
   ],
   "source": [
    "num = input() # print in tuple list \n",
    "for i in range(1):\n",
    "   \n",
    "    print(num .split(\",\"))\n",
    "   "
   ]
  },
  {
   "cell_type": "code",
   "execution_count": 54,
   "metadata": {},
   "outputs": [
    {
     "name": "stdout",
     "output_type": "stream",
     "text": [
      "enter string: afshan\n",
      "AFSHAN\n"
     ]
    }
   ],
   "source": [
    "a = input(\"enter string: \")\n",
    "#b = a.upper()\n",
    "print(a.upper())"
   ]
  },
  {
   "cell_type": "markdown",
   "metadata": {},
   "source": [
    "# Question 1:\n",
    "    Write a program to solve a classic ancient Chinese puzzle:\n",
    "    We count 35 heads and 94 legs among the chickens and rabbits in a farm. \n",
    "    How many rabbits and how many chickens do we have?"
   ]
  },
  {
   "cell_type": "code",
   "execution_count": null,
   "metadata": {},
   "outputs": [],
   "source": []
  },
  {
   "cell_type": "code",
   "execution_count": 17,
   "metadata": {},
   "outputs": [
    {
     "name": "stdout",
     "output_type": "stream",
     "text": [
      "(23, 12)\n"
     ]
    }
   ],
   "source": [
    "def solve(numheads,numlegs):\n",
    "\n",
    "    ns='No solutions!'\n",
    "    for i in range(numheads+1):\n",
    "        j=numheads-i\n",
    "        if (2*i)+(4*j)==numlegs:\n",
    "            return i,j\n",
    "    return ns,ns\n",
    "\n",
    "\n",
    "numheads=35\n",
    "numlegs=94\n",
    "solutions=solve(numheads,numlegs)\n",
    "print (solutions)"
   ]
  },
  {
   "cell_type": "code",
   "execution_count": 2,
   "metadata": {},
   "outputs": [
    {
     "ename": "SyntaxError",
     "evalue": "Missing parentheses in call to 'print'. Did you mean print(\"Number of chickens are %d and rabbits are %d.\" % result)? (<ipython-input-2-fed332e46506>, line 14)",
     "output_type": "error",
     "traceback": [
      "\u001b[1;36m  File \u001b[1;32m\"<ipython-input-2-fed332e46506>\"\u001b[1;36m, line \u001b[1;32m14\u001b[0m\n\u001b[1;33m    print \"Number of chickens are %d and rabbits are %d.\" % result\u001b[0m\n\u001b[1;37m                                                        ^\u001b[0m\n\u001b[1;31mSyntaxError\u001b[0m\u001b[1;31m:\u001b[0m Missing parentheses in call to 'print'. Did you mean print(\"Number of chickens are %d and rabbits are %d.\" % result)?\n"
     ]
    }
   ],
   "source": [
    "def main(total, numLegs):\n",
    "    for rabbits in range(total + 1):\n",
    "        chickens = total - rabbits\n",
    "        if 2 * chickens + 4 * rabbits == numLegs:\n",
    "            return chickens, rabbits\n",
    "    return None, None\n",
    "\n",
    "\n",
    "if __name__ == '__main__':\n",
    "    try:\n",
    "        numHeads = int(raw_input(\"Input number of heads: \"))\n",
    "        numLegs = int(raw_input(\"Input number of legs: \"))\n",
    "        result = main(numHeads, numLegs)\n",
    "        print \"Number of chickens are %d and rabbits are %d.\" % result\n",
    "    except TypeError:\n",
    "        print 'TypeError: invalid input'"
   ]
  },
  {
   "cell_type": "code",
   "execution_count": 19,
   "metadata": {},
   "outputs": [
    {
     "name": "stdout",
     "output_type": "stream",
     "text": [
      "Chicken: 23,  Rabbits: 12\n"
     ]
    }
   ],
   "source": [
    "def chickensAndRabbits(headCount,legCount):\n",
    "    #chek all possible combination for the legs, should be equal to total legs\n",
    "    for num in range(1,headCount+1):\n",
    "        rabbits = headCount - num\n",
    "        if  (num *2) + (rabbits*4)  == legCount:\n",
    "            #return a dictionary showing number of chickens and rabbits\n",
    "            return {\"rabbits\":rabbits,\"chicken\":num}\n",
    " \n",
    "    #return failed if no solution was found\n",
    "    return {\"rabbits\":\"Failed\",\"chicken\":\"Failed\"}\n",
    " \n",
    "if __name__ == \"__main__\":\n",
    "    solution = chickensAndRabbits(35,94)\n",
    "    print(\"Chicken:\",solution[\"chicken\"],end=\"\")\n",
    "    print(\",  Rabbits:\",solution[\"rabbits\"])"
   ]
  },
  {
   "cell_type": "code",
   "execution_count": 37,
   "metadata": {},
   "outputs": [
    {
     "ename": "SyntaxError",
     "evalue": "invalid syntax (<ipython-input-37-f402f7e81b47>, line 5)",
     "output_type": "error",
     "traceback": [
      "\u001b[1;36m  File \u001b[1;32m\"<ipython-input-37-f402f7e81b47>\"\u001b[1;36m, line \u001b[1;32m5\u001b[0m\n\u001b[1;33m    if (chicken*2)+(rabbits*4) == :\u001b[0m\n\u001b[1;37m                                  ^\u001b[0m\n\u001b[1;31mSyntaxError\u001b[0m\u001b[1;31m:\u001b[0m invalid syntax\n"
     ]
    }
   ],
   "source": [
    "head = 35\n",
    "legs = 94\n",
    "for chicken in range(1, head+1):\n",
    "    rabbits = head - chicken\n",
    "    if (chicken*2)+(rabbits*4) == :\n",
    "        print(\"rabbits\" +  str(rabbits) + \"chicken\" + str(chicken) )\n",
    "    else:\n",
    "        print(\"rabbits\" +  str(rabbits) + \"chicken\" + str(chicken) )"
   ]
  },
  {
   "cell_type": "code",
   "execution_count": null,
   "metadata": {},
   "outputs": [],
   "source": []
  },
  {
   "cell_type": "code",
   "execution_count": null,
   "metadata": {},
   "outputs": [],
   "source": []
  }
 ],
 "metadata": {
  "kernelspec": {
   "display_name": "Python 3",
   "language": "python",
   "name": "python3"
  },
  "language_info": {
   "codemirror_mode": {
    "name": "ipython",
    "version": 3
   },
   "file_extension": ".py",
   "mimetype": "text/x-python",
   "name": "python",
   "nbconvert_exporter": "python",
   "pygments_lexer": "ipython3",
   "version": "3.7.4"
  }
 },
 "nbformat": 4,
 "nbformat_minor": 2
}
