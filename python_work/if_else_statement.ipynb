{
 "cells": [
  {
   "cell_type": "markdown",
   "metadata": {},
   "source": [
    "# if_else_statement"
   ]
  },
  {
   "cell_type": "code",
   "execution_count": 8,
   "metadata": {},
   "outputs": [
    {
     "name": "stdout",
     "output_type": "stream",
     "text": [
      "Enter yr age: 19\n",
      "your age is 19 and yu are teenager\n"
     ]
    }
   ],
   "source": [
    "age = int(input(\"Enter yr age: \"))\n",
    "if age > 20:\n",
    "    print(\"your age is \" +str (age) + \" and yu are Adult: \" )\n",
    "else:\n",
    "     print(\"your age is \" +str (age) +\" and yu are teenager\")"
   ]
  },
  {
   "cell_type": "code",
   "execution_count": 10,
   "metadata": {},
   "outputs": [
    {
     "name": "stdout",
     "output_type": "stream",
     "text": [
      "do yu have yr id_cardno\n",
      "yu can't attend class: bring id_card\n"
     ]
    }
   ],
   "source": [
    "id_card = input(\"do yu have yr id_card\")\n",
    "if id_card == \"yes\":\n",
    "    print(\"Go inside\")\n",
    "    have_book = input(\"Do yu have yr books\")\n",
    "    if have_book == \"yes\":\n",
    "        print(\"yu can attend the class\")\n",
    "    else:\n",
    "        (\"yu can't attend the class bcz yu don't have yr book: \")\n",
    "else:\n",
    "    print(\"yu can't attend class: bring id_card\")\n",
    "    "
   ]
  },
  {
   "cell_type": "code",
   "execution_count": 11,
   "metadata": {},
   "outputs": [
    {
     "name": "stdout",
     "output_type": "stream",
     "text": [
      "have id_cardyes\n",
      "have booksyes\n",
      "yu can attend the class\n"
     ]
    }
   ],
   "source": [
    "if ((input(\"have id_card\")==\"yes\") and (input(\"have books\")==\"yes\")):\n",
    "    print(\"yu can attend the class\")\n",
    "else:\n",
    "    print(\"yu can't attend the class\")"
   ]
  },
  {
   "cell_type": "code",
   "execution_count": 13,
   "metadata": {},
   "outputs": [
    {
     "name": "stdout",
     "output_type": "stream",
     "text": [
      "which pat yu have? dog\n",
      "yu don't have cat. yu have dog\n"
     ]
    }
   ],
   "source": [
    "pat_name = input(\"which pat yu have? \")\n",
    "if pat_name == \"cat\":\n",
    "    print(\"yu have \"+ pat_name)\n",
    "else:\n",
    "    print(\"yu don't have cat. yu have \"+ pat_name)"
   ]
  },
  {
   "cell_type": "code",
   "execution_count": 21,
   "metadata": {},
   "outputs": [
    {
     "name": "stdout",
     "output_type": "stream",
     "text": [
      "Enter first number: 2\n",
      "Enter second number: 2\n",
      "First number 2 is  aqual to second number 2\n"
     ]
    }
   ],
   "source": [
    "x = int(input(\"Enter first number: \"))\n",
    "y = int(input(\"Enter second number: \"))\n",
    "if x == y:\n",
    "    print(f\"First number {x} is  aqual to second number {y}\")\n",
    "elif x > y:\n",
    "    print(f\"First number {x} is grater then second number {y}\")\n",
    "elif x < y:\n",
    "    print(f\"First number {x} is less then second number {y}\")\n",
    "else:\n",
    "    print(\"Enter any num\")\n"
   ]
  },
  {
   "cell_type": "code",
   "execution_count": 23,
   "metadata": {},
   "outputs": [
    {
     "name": "stdout",
     "output_type": "stream",
     "text": [
      "Enter your name: afshan\n",
      "Enter yr age: 19\n",
      "Enter yr height: 5\n",
      "Enter yr weight: 50\n",
      "Enter time to take: 4\n",
      "congratz yu are selected: \n"
     ]
    }
   ],
   "source": [
    "name = input(\"Enter your name: \")\n",
    "age = int(input(\"Enter yr age: \"))\n",
    "height = int(input(\"Enter yr height: \"))\n",
    "weight = int(input(\"Enter yr weight: \"))\n",
    "time = int(input(\"Enter time to take: \"))\n",
    "if age >= 19 and height >= 5 and weight >= 50 and time <= 10:\n",
    "    status = \"congratz yu are selected: \"\n",
    "    print(status)\n",
    "else:\n",
    "    print(\"sorry yu are unable to select: \")"
   ]
  },
  {
   "cell_type": "code",
   "execution_count": 24,
   "metadata": {},
   "outputs": [
    {
     "name": "stdout",
     "output_type": "stream",
     "text": [
      "Enter any number: 3\n",
      "you enter number 3, its odd\n"
     ]
    }
   ],
   "source": [
    "num = int(input(\"Enter any number: \"))\n",
    "if num %2 == 0:\n",
    "    print(f\"you enter number {num}, its even\")\n",
    "else:\n",
    "    print(f\"you enter number {num}, its odd\")"
   ]
  },
  {
   "cell_type": "code",
   "execution_count": null,
   "metadata": {},
   "outputs": [],
   "source": []
  }
 ],
 "metadata": {
  "kernelspec": {
   "display_name": "Python 3",
   "language": "python",
   "name": "python3"
  },
  "language_info": {
   "codemirror_mode": {
    "name": "ipython",
    "version": 3
   },
   "file_extension": ".py",
   "mimetype": "text/x-python",
   "name": "python",
   "nbconvert_exporter": "python",
   "pygments_lexer": "ipython3",
   "version": "3.7.4"
  }
 },
 "nbformat": 4,
 "nbformat_minor": 2
}
